{
 "cells": [
  {
   "cell_type": "markdown",
   "metadata": {},
   "source": [
    "# Machine Learning From First Principles\n",
    "### A Workshop by Jack Fraser-Govil\n",
    "\n",
    "\n",
    "Hello, and welcome to this notebook. Along with the notes, presentation and discussions which we will be having throughout the day, this document will walk you through a series of tasks and exercises which will culminate, by the end of the workshop, in you possessing a fully working Feedforward Neural Network which you have designed and written from scratch. \n",
    "\n",
    "In doing so, we hope that you will gain a degree of insight into how these machines are `thinking' under the hood, and thereby pull back some of the mystery and folklore that surrounds ML, and thereby gain a peek inside the black box. We hope that this knowledge will help inform the discussions and presentations for the rest of this conference. \n",
    "\n",
    "## What Do I Need?\n",
    "\n",
    "In order to run this notebook, all you need is the ability to run an ipython/Jupyter notebooks, and some standard python libraries: mostly ```numpy``` and ```matplotlib```. You do *not* need to have ```tensorflow``` or ```pytorch```: the entire point of this exercise is to create a learning framework without relying on pre-built tools.\n",
    "\n",
    "You *will* need to have read, or be confident that you already know the mathematics contained within [the provided notes](Notes.pdf). If you haven't read them yet (and are not confident that your skillset includes the vector-chain rule and matrix algebra), then I suggest you speed-read Chapters 2, 3 and 4.\n",
    "\n",
    "The final thing you need is a willingness to engage with some of the murkier, more difficult and mathematically complex components of the workshop: teasing out what these things *mean* is why you are here; so if something sticks out to you as something you don't understand, don't just let it wash over you -- please ask and we can discuss. \n",
    "\n",
    "\n",
    "## What if I get stuck?\n",
    "\n",
    "The first port of call is always to ask me, one of my helpers, or simply someone near to you, for guidance. \n",
    "\n",
    "If there's a concept you just can't grasp during the day, I will point you to some resources that you can look at afterwards, and hopefully things will become clearer in retrospect. \n",
    "\n",
    "If you get stuck on one of the coding exercises, or cannot complete it before it is time to move on, you will find a [second notebook in this same directory](notebook_solved.ipynb). This notebook will have all of the coding exercises solved for you. That is not to say that it is 'correct', only that this notebook will be *functional*. If you get really, really, really stuck, you can start stealing code from that document. \n",
    "\n",
    "##### However\n",
    "\n",
    "Whilst it is certainly possible (and permitted) for you to do this at any time, the entire purpose of this workshop is for you to come away with the satisfaction of having written your own learning networks from scratch. We are, by definition, reinventing the wheel here: everything we make will be orders of magnitude worse than pytorch or tensorflow; the principle is that **you learn best by doing it yourself**.\n",
    "\n",
    "If you're going to use the 'cheat sheet', then try, first of all, to simply look at it to understand what it is doing, and then implement your own version. Don't directly copy whole chunks of code you don't understand, as that sort of defeats the point of today's efforts.\n",
    "\n",
    "\n",
    "## Jack, Why is this Python Written Like Garbage?\n",
    "\n",
    "That's a very good and very important question. **I am not a python developer**. As a member of the High Performance Algorithms group, I spend most of my time buried in C++ and C code. I have written this workshop assuming that, since the majority of existing ML products are pythonic, that python would be the most accessible language. There are often times where my python code is written like someone used to C-syntax, and blithely unaware to the beautiful, elegant, pythonic way of doing things.\n",
    "\n",
    "I'm afraid you'll just have to deal with my slightly sub-par python. \n",
    "\n",
    "What was **not** a result of subpar python is the choice not to use ```pandas``` for data. I made a conscious decision to keep things as 'mathematical' as possible, rather than abstracted into dataframes. You get a list of vectors (and maybe some labels), and have to deal with them manually, that's part of the bare-bones experience!\n",
    "\n",
    "I also use ```CamelCase```, not ```snake_case```. Fight me."
   ]
  },
  {
   "cell_type": "markdown",
   "metadata": {},
   "source": [
    "## Exercise 1: The Pretrained Perceptron\n",
    "\n",
    "Just to get the juices flowing, let's get started with an easy project.\n",
    "\n",
    "**In the ```Data``` directory is a file ```cuteness.tex```, which contains (non-dimensional) measures of size and furriness of some animals, as well as some human-curated labels (1 for cute, 0 for note cute). Please write a Perceptron function to evaluate (without the labelled data) which of these creatures the model currently mislabels.**  \n",
    "\n",
    "I've provided some basic functions and a class framework for you to work from."
   ]
  },
  {
   "cell_type": "code",
   "execution_count": 48,
   "metadata": {},
   "outputs": [],
   "source": [
    "import numpy as np\n",
    "import matplotlib.pyplot as pt\n",
    "\n",
    "##load and parse the data manually. No pandas to be seen here! This function will be used repeatedly to load in our test data. \n",
    "def LoadData(file):\n",
    "\tnames = []\n",
    "\tlabels = []\n",
    "\tdata = []\n",
    "\twith open(file) as file:\n",
    "\t\tfor line in file:\n",
    "\t\t\tentries = line.rstrip().split(' ')\n",
    "\t\t\tnames.append(entries[0])\n",
    "\t\t\tlabels.append(int(entries[1]))\n",
    "\t\t\tdata.append(np.array([ float(entries[i]) for i in range(2,len(entries))]))\n",
    "\treturn names, labels, data\n",
    "\n",
    "\n",
    "names, labels, data = LoadData(\"Data/cuteness.dat\")\n",
    "\n"
   ]
  },
  {
   "cell_type": "code",
   "execution_count": 47,
   "metadata": {},
   "outputs": [
    {
     "data": {
      "image/png": "[encoded data removed]",
      "text/plain": [
       "<Figure size 640x480 with 1 Axes>"
      ]
     },
     "metadata": {},
     "output_type": "display_data"
    }
   ],
   "source": [
    "## Here's a basic plotting function, feel free to write your own\n",
    "def PlotData(positions, labels,names=None):\n",
    "\tcols = [\"red\",\"blue\"]\n",
    "\tfor i,pos in enumerate(positions):\n",
    "\t\tpt.scatter(pos[0],pos[1],color=cols[labels[i]])\n",
    "\t\tif names is not None:\n",
    "\t\t\tpt.annotate(names[i],pos)\n",
    "\tpt.show()\n",
    "\n",
    "\n",
    "\n",
    "pt.title(\"True Assignments\")\n",
    "pt.xlabel(\"Size\")\n",
    "pt.ylabel(\"Fur\")\n",
    "PlotData(data,labels,names)\n"
   ]
  },
  {
   "cell_type": "code",
   "execution_count": null,
   "metadata": {},
   "outputs": [],
   "source": [
    "class Perceptron:\n",
    "\n",
    "\tdef __init__(self):\n",
    "\t\tself.Weights = np.array([1,1,-1]) ## we'll use these pre-provided weights for now\n",
    "\n",
    "\tdef Predict(self,input):\n",
    "\t\t\n",
    "\t\treturn ##this should return a value of 0 or 1, depending one how the Perceptron classifies it\n",
    "\t\n",
    "\n",
    "## Initialise, then call your Perceptron on data. "
   ]
  },
  {
   "cell_type": "code",
   "execution_count": 1,
   "metadata": {},
   "outputs": [],
   "source": [
    "import numpy as np\n",
    "\n",
    "class Network:\n",
    "\n",
    "\tdef __init__(self,inputDimension,outputDimension):\n",
    "\t\tself.Layers = []\n",
    "\t\tself.InputDim = inputDimension\n",
    "\t\tself.OutputDim = outputDimension\n",
    "\tdef AddLayer(self,nNodes,nodeType):\n",
    "\t\tself.Layers.append(Layer(nNodes,nodeType))\n",
    "\n",
    "\tdef Initialise(self):\n",
    "\t\tif len(self.Layers) == 0 or len(self.Layers[-1].Nodes) != self.OutputDim:\n",
    "\t\t\tprint(\"Adding a linear layer for output conformity\")\n",
    "\t\t\tself.AddLayer(self.OutputDim,Node())\n",
    "\n",
    "\t\tprevDim = self.InputDim\n",
    "\t\tfor i in range(len(self.Layers)):\n",
    "\t\t\tself.Layers[i].Initialise(prevDim)\n",
    "\t\t\tprevDim = len(self.Layers[i].Nodes)\n",
    "\tdef Act(self,inputVector):\n",
    "\t\tself.Layers[0].Act(inputVector)\n",
    "\t\tfor l in range(1,len(self.Layers)):\n",
    "\t\t\tself.Layers[l].Act(self.Layers[l-1].Vector)\n",
    "\t\treturn self.Layers[-1].Vector\n",
    "class Layer:\n",
    "\n",
    "\tdef __init__(self,nNodes,nodeType):\n",
    "\n",
    "\t\tself.Nodes = [nodeType]*nNodes\n",
    "\n",
    "\t\tself.Vector = np.zeros(nNodes)\n",
    "\n",
    "\tdef Initialise(self,nDim):\n",
    "\t\tfor i in range(len(self.Nodes)):\n",
    "\t\t\tself.Nodes[i].Initialise(nDim)\n",
    "\n",
    "\tdef Act(self,vector):\n",
    "\t\tfor i in range(len(self.Nodes)):\n",
    "\t\t\tself.Vector[i] = self.Nodes[i].Act(vector)\n",
    "class Node:\n",
    "\n",
    "\tdef __init__(self,func=None):\n",
    "\t\tif func is not None:\n",
    "\t\t\tself.ActivationFunction = func\n",
    "\tdef Initialise(self,nDim):\n",
    "\t\tself.Weights = np.ones((nDim,))*np.random.random()\n",
    "\n",
    "\tdef ActivationFunction(self,x):\n",
    "\t\treturn x\n",
    "\t\n",
    "\tdef Act(self,vector):\n",
    "\t\treturn self.ActivationFunction(np.dot(self.Weights,vector))\n",
    "\t\n",
    "\n",
    "\t\t"
   ]
  },
  {
   "cell_type": "markdown",
   "metadata": {},
   "source": []
  },
  {
   "cell_type": "code",
   "execution_count": 37,
   "metadata": {},
   "outputs": [
    {
     "name": "stdout",
     "output_type": "stream",
     "text": [
      "Adding a linear layer for output conformity\n",
      "[11.15733789]\n"
     ]
    }
   ],
   "source": [
    "network = Network(5,1)\n",
    "network.AddLayer(10,Node())\n",
    "network.Initialise()\n",
    "\n",
    "s=network.Act([5,3,2,1,4])\n",
    "print(s)"
   ]
  },
  {
   "cell_type": "code",
   "execution_count": null,
   "metadata": {},
   "outputs": [],
   "source": []
  }
 ],
 "metadata": {
  "kernelspec": {
   "display_name": "Python 3 (ipykernel)",
   "language": "python",
   "name": "python3"
  },
  "language_info": {
   "codemirror_mode": {
    "name": "ipython",
    "version": 3
   },
   "file_extension": ".py",
   "mimetype": "text/x-python",
   "name": "python",
   "nbconvert_exporter": "python",
   "pygments_lexer": "ipython3",
   "version": "3.11.7"
  }
 },
 "nbformat": 4,
 "nbformat_minor": 2
}
